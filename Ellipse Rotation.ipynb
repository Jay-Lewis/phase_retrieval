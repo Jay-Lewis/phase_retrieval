{
 "cells": [
  {
   "cell_type": "code",
   "execution_count": 1,
   "metadata": {},
   "outputs": [],
   "source": [
    "import numpy as np\n",
    "import math\n",
    "\n",
    "a1 = np.random.randn(2,1)\n",
    "a2 = np.random.randn(2,1)\n",
    "\n",
    "a1_r = a1[0]; a1_i = a1[1]\n",
    "a2_r = a2[0]; a2_i = a2[1]\n",
    "\n",
    "A = a1_r**2+a1_i**2\n",
    "B = -(a1_r*a2_r+a1_i*a2_i)\n",
    "C = a2_r**2+a2_i**2\n",
    "F = A*C-B**2\n"
   ]
  },
  {
   "cell_type": "code",
   "execution_count": 2,
   "metadata": {},
   "outputs": [],
   "source": [
    "theta = np.arctan((A-C+np.sqrt((A+C)**2-4*F))/(2*B))\n",
    "\n",
    "a = np.sqrt(1/2*(A+C+np.sqrt((A+C)**2-4*F))) \n",
    "b = np.sqrt(1/2*(A+C-np.sqrt((A+C)**2-4*F))) "
   ]
  },
  {
   "cell_type": "code",
   "execution_count": 3,
   "metadata": {},
   "outputs": [
    {
     "name": "stdout",
     "output_type": "stream",
     "text": [
      "[[ 0.51493814]\n",
      " [-0.19393471]]\n",
      "[[-0.48907822]\n",
      " [-1.04661952]]\n",
      "-------------\n",
      "[2.70552977]\n",
      "-------------\n",
      "[1.15625225]\n",
      "[0.54814471]\n"
     ]
    }
   ],
   "source": [
    "print(a1)\n",
    "print(a2)\n",
    "\n",
    "print('-------------')\n",
    "print(theta*180/math.pi)\n",
    "print('-------------')\n",
    "print(a)\n",
    "print(b)"
   ]
  },
  {
   "cell_type": "code",
   "execution_count": 5,
   "metadata": {},
   "outputs": [
    {
     "data": {
      "image/png": "[encoded data removed]",
      "text/plain": [
       "<Figure size 432x288 with 1 Axes>"
      ]
     },
     "metadata": {},
     "output_type": "display_data"
    }
   ],
   "source": [
    "import matplotlib.pyplot as plt\n",
    "\n",
    "a1_r = a1[0]; a1_i = a1[1]\n",
    "a2_r = a2[0]; \n",
    "\n",
    "thetas = []\n",
    "xs = np.linspace(0,5,10)\n",
    "for a2_i in xs:\n",
    "    A = a1_r**2+a1_i**2\n",
    "    B = -(a1_r*a2_r+a1_i*a2_i)\n",
    "    C = a2_r**2+a2_i**2\n",
    "    F = A*C-B**2\n",
    "\n",
    "    theta = np.arctan((A-C+np.sqrt((A+C)**2-4*F))/(2*B))*180/math.pi\n",
    "    thetas.append(theta)\n",
    "    \n",
    "plt.plot(xs,thetas)\n",
    "plt.show()"
   ]
  },
  {
   "cell_type": "code",
   "execution_count": null,
   "metadata": {},
   "outputs": [],
   "source": []
  }
 ],
 "metadata": {
  "kernelspec": {
   "display_name": "Python 3",
   "language": "python",
   "name": "python3"
  },
  "language_info": {
   "codemirror_mode": {
    "name": "ipython",
    "version": 3
   },
   "file_extension": ".py",
   "mimetype": "text/x-python",
   "name": "python",
   "nbconvert_exporter": "python",
   "pygments_lexer": "ipython3",
   "version": "3.6.5"
  }
 },
 "nbformat": 4,
 "nbformat_minor": 2
}
